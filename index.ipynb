{
 "cells": [
  {
   "cell_type": "code",
   "execution_count": 4,
   "metadata": {},
   "outputs": [
    {
     "name": "stdout",
     "output_type": "stream",
     "text": [
      "          0               1       2     3         4    5         6   \\\n",
      "0  numer_sta            date    pmer  tend  cod_tend   dd        ff   \n",
      "1      07005  20130101000000  100290   -50         8  200  6.700000   \n",
      "2      07015  20130101000000  100270   -80         6  210  8.700000   \n",
      "3      07020  20130101000000  100350    40         3  260  7.700000   \n",
      "4      07027  20130101000000  100370   -60         6  220  4.600000   \n",
      "\n",
      "           7           8   9   ...       50      51       52       53      54  \\\n",
      "0           t          td   u  ...  nnuage2  ctype2  hnuage2  nnuage3  ctype3   \n",
      "1  281.650000  280.450000  92  ...       mq      mq       mq       mq      mq   \n",
      "2  281.450000  280.050000  91  ...       mq      mq       mq       mq      mq   \n",
      "3  284.150000  281.850000  86  ...       mq      mq       mq       mq      mq   \n",
      "4  282.350000  280.950000  91  ...       mq      mq       mq       mq      mq   \n",
      "\n",
      "        55       56      57       58  59  \n",
      "0  hnuage3  nnuage4  ctype4  hnuage4 NaN  \n",
      "1       mq       mq      mq       mq NaN  \n",
      "2       mq       mq      mq       mq NaN  \n",
      "3       mq       mq      mq       mq NaN  \n",
      "4       mq       mq      mq       mq NaN  \n",
      "\n",
      "[5 rows x 60 columns]\n"
     ]
    }
   ],
   "source": [
    "import pandas as pd\n",
    "df = pd.read_csv(\"./data/meteo/2013/01.csv.gz\", compression=\"gzip\", header=None, sep=\";\")\n",
    "print(df.head())"
   ]
  },
  {
   "cell_type": "code",
   "execution_count": null,
   "metadata": {},
   "outputs": [],
   "source": [
    "68 042 591\n",
    "67 842 591\n",
    "67 635 124\n",
    "67 441 85\n",
    "67 257 982\n",
    "66 992 159\n",
    "66 774 482\n",
    "66 602 645\n",
    "66 422 469\n",
    "66 130 873\n",
    "65 564 756\n",
    "65 241 241\n",
    "64 933 4\n",
    "64 612 939\n",
    "64 304 5\n",
    "63 961 859\n",
    "63 600 69\n",
    "63 186 117\n",
    "62 730 537\n",
    "62 251 062\n",
    "61 824 03\n",
    "61 385 07\n",
    "60 941 41\n",
    "60 508 15\n",
    "60 122 665\n",
    "59 899 347\n",
    "59 691 177\n",
    "59 487 413\n",
    "59 280 577\n",
    "59 070 077\n",
    "58 852 002\n",
    "58 571 237\n",
    "58 280 135\n",
    "57 996 401\n"
   ]
  }
 ],
 "metadata": {
  "kernelspec": {
   "display_name": "venv",
   "language": "python",
   "name": "python3"
  },
  "language_info": {
   "codemirror_mode": {
    "name": "ipython",
    "version": 3
   },
   "file_extension": ".py",
   "mimetype": "text/x-python",
   "name": "python",
   "nbconvert_exporter": "python",
   "pygments_lexer": "ipython3",
   "version": "3.11.4"
  }
 },
 "nbformat": 4,
 "nbformat_minor": 2
}
